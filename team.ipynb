{
  "cells": [
    {
      "cell_type": "raw",
      "metadata": {},
      "source": [
        "---\n",
        "title: \"Teaching Team\"\n",
        "---"
      ],
      "id": "6b1481df"
    },
    {
      "cell_type": "markdown",
      "metadata": {},
      "source": [
        "```{css, echo=FALSE}\n",
        ".img-fluid{\n",
        "  max-width=\"150%\n",
        "}\n",
        "```\n",
        "\n",
        "\n",
        "![](images/team-page.png){max-width=\"150%}"
      ],
      "id": "f1799db8"
    }
  ],
  "metadata": {
    "kernelspec": {
      "display_name": "Python 3",
      "language": "python",
      "name": "python3"
    }
  },
  "nbformat": 4,
  "nbformat_minor": 5
}